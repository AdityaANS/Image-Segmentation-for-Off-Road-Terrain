{
  "nbformat": 4,
  "nbformat_minor": 0,
  "metadata": {
    "colab": {
      "provenance": [],
      "gpuType": "T4"
    },
    "kernelspec": {
      "name": "python3",
      "display_name": "Python 3"
    },
    "language_info": {
      "name": "python"
    },
    "accelerator": "GPU"
  },
  "cells": [
    {
      "cell_type": "code",
      "source": [
        "from google.colab import drive\n",
        "drive.mount('/content/drive')"
      ],
      "metadata": {
        "colab": {
          "base_uri": "https://localhost:8080/"
        },
        "id": "d83u4WQZOKdV",
        "outputId": "3c85e9c0-b9b8-4256-ef6e-8fdf54579d70"
      },
      "execution_count": null,
      "outputs": [
        {
          "output_type": "stream",
          "name": "stdout",
          "text": [
            "Mounted at /content/drive\n"
          ]
        }
      ]
    },
    {
      "cell_type": "code",
      "source": [
        "from imageloadd import MasterImage"
      ],
      "metadata": {
        "id": "fOlMcuEXDqqx"
      },
      "execution_count": null,
      "outputs": []
    },
    {
      "cell_type": "code",
      "source": [
        "path = '/content/drive/MyDrive/IAI PROJECT/'"
      ],
      "metadata": {
        "id": "B_7URyaJ1KAZ"
      },
      "execution_count": null,
      "outputs": []
    },
    {
      "cell_type": "code",
      "execution_count": null,
      "metadata": {
        "id": "d9W_6f805jCP"
      },
      "outputs": [],
      "source": [
        "import numpy as np\n",
        "import cv2\n",
        "import matplotlib.pyplot as plt\n",
        "import os\n",
        "import glob\n",
        "import tensorflow as tf\n",
        "from tensorflow import keras\n",
        "import csv\n",
        "import pickle\n",
        "import shutil\n",
        "import pandas as pd\n",
        "from keras.callbacks import ModelCheckpoint,EarlyStopping"
      ]
    },
    {
      "cell_type": "code",
      "source": [
        "!git clone https://github.com/rajeevratan84/image-segmentation-keras.git\n",
        "%cd image-segmentation-keras\n",
        "!python setup.py install\n",
        "from keras_segmentation.models.unet import vgg_unet\n",
        "\n",
        "model = vgg_unet(n_classes=50 ,  input_height=1200, input_width=1920)"
      ],
      "metadata": {
        "id": "sIfch9rGE3Lu",
        "colab": {
          "base_uri": "https://localhost:8080/"
        },
        "outputId": "6db04ca3-9b2d-40e8-e0af-d5bfcdbcc89a"
      },
      "execution_count": null,
      "outputs": [
        {
          "output_type": "stream",
          "name": "stdout",
          "text": [
            "Cloning into 'image-segmentation-keras'...\n",
            "remote: Enumerating objects: 1165, done.\u001b[K\n",
            "remote: Total 1165 (delta 0), reused 0 (delta 0), pack-reused 1165\u001b[K\n",
            "Receiving objects: 100% (1165/1165), 3.29 MiB | 6.44 MiB/s, done.\n",
            "Resolving deltas: 100% (752/752), done.\n",
            "/content/image-segmentation-keras\n",
            "/usr/local/lib/python3.10/dist-packages/setuptools/dist.py:755: SetuptoolsDeprecationWarning: Invalid dash-separated options\n",
            "!!\n",
            "\n",
            "        ********************************************************************************\n",
            "        Usage of dash-separated 'description-file' will not be supported in future\n",
            "        versions. Please use the underscore name 'description_file' instead.\n",
            "\n",
            "        This deprecation is overdue, please update your project and remove deprecated\n",
            "        calls to avoid build errors in the future.\n",
            "\n",
            "        See https://setuptools.pypa.io/en/latest/userguide/declarative_config.html for details.\n",
            "        ********************************************************************************\n",
            "\n",
            "!!\n",
            "  opt = self.warn_dash_deprecation(opt, section)\n",
            "running install\n",
            "/usr/local/lib/python3.10/dist-packages/setuptools/_distutils/cmd.py:66: SetuptoolsDeprecationWarning: setup.py install is deprecated.\n",
            "!!\n",
            "\n",
            "        ********************************************************************************\n",
            "        Please avoid running ``setup.py`` directly.\n",
            "        Instead, use pypa/build, pypa/installer, pypa/build or\n",
            "        other standards-based tools.\n",
            "\n",
            "        See https://blog.ganssle.io/articles/2021/10/setup-py-deprecated.html for details.\n",
            "        ********************************************************************************\n",
            "\n",
            "!!\n",
            "  self.initialize_options()\n",
            "/usr/local/lib/python3.10/dist-packages/setuptools/_distutils/cmd.py:66: EasyInstallDeprecationWarning: easy_install command is deprecated.\n",
            "!!\n",
            "\n",
            "        ********************************************************************************\n",
            "        Please avoid running ``setup.py`` and ``easy_install``.\n",
            "        Instead, use pypa/build, pypa/installer, pypa/build or\n",
            "        other standards-based tools.\n",
            "\n",
            "        See https://github.com/pypa/setuptools/issues/917 for details.\n",
            "        ********************************************************************************\n",
            "\n",
            "!!\n",
            "  self.initialize_options()\n",
            "running bdist_egg\n",
            "running egg_info\n",
            "creating keras_segmentation.egg-info\n",
            "writing keras_segmentation.egg-info/PKG-INFO\n",
            "writing dependency_links to keras_segmentation.egg-info/dependency_links.txt\n",
            "writing entry points to keras_segmentation.egg-info/entry_points.txt\n",
            "writing requirements to keras_segmentation.egg-info/requires.txt\n",
            "writing top-level names to keras_segmentation.egg-info/top_level.txt\n",
            "writing manifest file 'keras_segmentation.egg-info/SOURCES.txt'\n",
            "reading manifest file 'keras_segmentation.egg-info/SOURCES.txt'\n",
            "adding license file 'LICENSE'\n",
            "writing manifest file 'keras_segmentation.egg-info/SOURCES.txt'\n",
            "installing library code to build/bdist.linux-x86_64/egg\n",
            "running install_lib\n",
            "running build_py\n",
            "creating build\n",
            "creating build/lib\n",
            "creating build/lib/keras_segmentation\n",
            "copying keras_segmentation/metrics.py -> build/lib/keras_segmentation\n",
            "copying keras_segmentation/train.py -> build/lib/keras_segmentation\n",
            "copying keras_segmentation/model_compression.py -> build/lib/keras_segmentation\n",
            "copying keras_segmentation/__init__.py -> build/lib/keras_segmentation\n",
            "copying keras_segmentation/predict.py -> build/lib/keras_segmentation\n",
            "copying keras_segmentation/__main__.py -> build/lib/keras_segmentation\n",
            "copying keras_segmentation/cli_interface.py -> build/lib/keras_segmentation\n",
            "copying keras_segmentation/pretrained.py -> build/lib/keras_segmentation\n",
            "creating build/lib/keras_segmentation/data_utils\n",
            "copying keras_segmentation/data_utils/visualize_dataset.py -> build/lib/keras_segmentation/data_utils\n",
            "copying keras_segmentation/data_utils/__init__.py -> build/lib/keras_segmentation/data_utils\n",
            "copying keras_segmentation/data_utils/data_loader.py -> build/lib/keras_segmentation/data_utils\n",
            "copying keras_segmentation/data_utils/augmentation.py -> build/lib/keras_segmentation/data_utils\n",
            "creating build/lib/keras_segmentation/models\n",
            "copying keras_segmentation/models/fcn.py -> build/lib/keras_segmentation/models\n",
            "copying keras_segmentation/models/model.py -> build/lib/keras_segmentation/models\n",
            "copying keras_segmentation/models/resnet50.py -> build/lib/keras_segmentation/models\n",
            "copying keras_segmentation/models/unet.py -> build/lib/keras_segmentation/models\n",
            "copying keras_segmentation/models/__init__.py -> build/lib/keras_segmentation/models\n",
            "copying keras_segmentation/models/model_utils.py -> build/lib/keras_segmentation/models\n",
            "copying keras_segmentation/models/segnet.py -> build/lib/keras_segmentation/models\n",
            "copying keras_segmentation/models/mobilenet.py -> build/lib/keras_segmentation/models\n",
            "copying keras_segmentation/models/basic_models.py -> build/lib/keras_segmentation/models\n",
            "copying keras_segmentation/models/pspnet.py -> build/lib/keras_segmentation/models\n",
            "copying keras_segmentation/models/vgg16.py -> build/lib/keras_segmentation/models\n",
            "copying keras_segmentation/models/all_models.py -> build/lib/keras_segmentation/models\n",
            "copying keras_segmentation/models/config.py -> build/lib/keras_segmentation/models\n",
            "copying keras_segmentation/models/_pspnet_2.py -> build/lib/keras_segmentation/models\n",
            "creating build/bdist.linux-x86_64\n",
            "creating build/bdist.linux-x86_64/egg\n",
            "creating build/bdist.linux-x86_64/egg/keras_segmentation\n",
            "copying build/lib/keras_segmentation/metrics.py -> build/bdist.linux-x86_64/egg/keras_segmentation\n",
            "copying build/lib/keras_segmentation/train.py -> build/bdist.linux-x86_64/egg/keras_segmentation\n",
            "copying build/lib/keras_segmentation/model_compression.py -> build/bdist.linux-x86_64/egg/keras_segmentation\n",
            "copying build/lib/keras_segmentation/__init__.py -> build/bdist.linux-x86_64/egg/keras_segmentation\n",
            "creating build/bdist.linux-x86_64/egg/keras_segmentation/data_utils\n",
            "copying build/lib/keras_segmentation/data_utils/visualize_dataset.py -> build/bdist.linux-x86_64/egg/keras_segmentation/data_utils\n",
            "copying build/lib/keras_segmentation/data_utils/__init__.py -> build/bdist.linux-x86_64/egg/keras_segmentation/data_utils\n",
            "copying build/lib/keras_segmentation/data_utils/data_loader.py -> build/bdist.linux-x86_64/egg/keras_segmentation/data_utils\n",
            "copying build/lib/keras_segmentation/data_utils/augmentation.py -> build/bdist.linux-x86_64/egg/keras_segmentation/data_utils\n",
            "copying build/lib/keras_segmentation/predict.py -> build/bdist.linux-x86_64/egg/keras_segmentation\n",
            "copying build/lib/keras_segmentation/__main__.py -> build/bdist.linux-x86_64/egg/keras_segmentation\n",
            "copying build/lib/keras_segmentation/cli_interface.py -> build/bdist.linux-x86_64/egg/keras_segmentation\n",
            "copying build/lib/keras_segmentation/pretrained.py -> build/bdist.linux-x86_64/egg/keras_segmentation\n",
            "creating build/bdist.linux-x86_64/egg/keras_segmentation/models\n",
            "copying build/lib/keras_segmentation/models/fcn.py -> build/bdist.linux-x86_64/egg/keras_segmentation/models\n",
            "copying build/lib/keras_segmentation/models/model.py -> build/bdist.linux-x86_64/egg/keras_segmentation/models\n",
            "copying build/lib/keras_segmentation/models/resnet50.py -> build/bdist.linux-x86_64/egg/keras_segmentation/models\n",
            "copying build/lib/keras_segmentation/models/unet.py -> build/bdist.linux-x86_64/egg/keras_segmentation/models\n",
            "copying build/lib/keras_segmentation/models/__init__.py -> build/bdist.linux-x86_64/egg/keras_segmentation/models\n",
            "copying build/lib/keras_segmentation/models/model_utils.py -> build/bdist.linux-x86_64/egg/keras_segmentation/models\n",
            "copying build/lib/keras_segmentation/models/segnet.py -> build/bdist.linux-x86_64/egg/keras_segmentation/models\n",
            "copying build/lib/keras_segmentation/models/mobilenet.py -> build/bdist.linux-x86_64/egg/keras_segmentation/models\n",
            "copying build/lib/keras_segmentation/models/basic_models.py -> build/bdist.linux-x86_64/egg/keras_segmentation/models\n",
            "copying build/lib/keras_segmentation/models/pspnet.py -> build/bdist.linux-x86_64/egg/keras_segmentation/models\n",
            "copying build/lib/keras_segmentation/models/vgg16.py -> build/bdist.linux-x86_64/egg/keras_segmentation/models\n",
            "copying build/lib/keras_segmentation/models/all_models.py -> build/bdist.linux-x86_64/egg/keras_segmentation/models\n",
            "copying build/lib/keras_segmentation/models/config.py -> build/bdist.linux-x86_64/egg/keras_segmentation/models\n",
            "copying build/lib/keras_segmentation/models/_pspnet_2.py -> build/bdist.linux-x86_64/egg/keras_segmentation/models\n",
            "byte-compiling build/bdist.linux-x86_64/egg/keras_segmentation/metrics.py to metrics.cpython-310.pyc\n",
            "byte-compiling build/bdist.linux-x86_64/egg/keras_segmentation/train.py to train.cpython-310.pyc\n",
            "byte-compiling build/bdist.linux-x86_64/egg/keras_segmentation/model_compression.py to model_compression.cpython-310.pyc\n",
            "byte-compiling build/bdist.linux-x86_64/egg/keras_segmentation/__init__.py to __init__.cpython-310.pyc\n",
            "byte-compiling build/bdist.linux-x86_64/egg/keras_segmentation/data_utils/visualize_dataset.py to visualize_dataset.cpython-310.pyc\n",
            "byte-compiling build/bdist.linux-x86_64/egg/keras_segmentation/data_utils/__init__.py to __init__.cpython-310.pyc\n",
            "byte-compiling build/bdist.linux-x86_64/egg/keras_segmentation/data_utils/data_loader.py to data_loader.cpython-310.pyc\n",
            "byte-compiling build/bdist.linux-x86_64/egg/keras_segmentation/data_utils/augmentation.py to augmentation.cpython-310.pyc\n",
            "byte-compiling build/bdist.linux-x86_64/egg/keras_segmentation/predict.py to predict.cpython-310.pyc\n",
            "byte-compiling build/bdist.linux-x86_64/egg/keras_segmentation/__main__.py to __main__.cpython-310.pyc\n",
            "byte-compiling build/bdist.linux-x86_64/egg/keras_segmentation/cli_interface.py to cli_interface.cpython-310.pyc\n",
            "byte-compiling build/bdist.linux-x86_64/egg/keras_segmentation/pretrained.py to pretrained.cpython-310.pyc\n",
            "byte-compiling build/bdist.linux-x86_64/egg/keras_segmentation/models/fcn.py to fcn.cpython-310.pyc\n",
            "byte-compiling build/bdist.linux-x86_64/egg/keras_segmentation/models/model.py to model.cpython-310.pyc\n",
            "byte-compiling build/bdist.linux-x86_64/egg/keras_segmentation/models/resnet50.py to resnet50.cpython-310.pyc\n",
            "byte-compiling build/bdist.linux-x86_64/egg/keras_segmentation/models/unet.py to unet.cpython-310.pyc\n",
            "byte-compiling build/bdist.linux-x86_64/egg/keras_segmentation/models/__init__.py to __init__.cpython-310.pyc\n",
            "byte-compiling build/bdist.linux-x86_64/egg/keras_segmentation/models/model_utils.py to model_utils.cpython-310.pyc\n",
            "byte-compiling build/bdist.linux-x86_64/egg/keras_segmentation/models/segnet.py to segnet.cpython-310.pyc\n",
            "byte-compiling build/bdist.linux-x86_64/egg/keras_segmentation/models/mobilenet.py to mobilenet.cpython-310.pyc\n",
            "byte-compiling build/bdist.linux-x86_64/egg/keras_segmentation/models/basic_models.py to basic_models.cpython-310.pyc\n",
            "byte-compiling build/bdist.linux-x86_64/egg/keras_segmentation/models/pspnet.py to pspnet.cpython-310.pyc\n",
            "byte-compiling build/bdist.linux-x86_64/egg/keras_segmentation/models/vgg16.py to vgg16.cpython-310.pyc\n",
            "byte-compiling build/bdist.linux-x86_64/egg/keras_segmentation/models/all_models.py to all_models.cpython-310.pyc\n",
            "byte-compiling build/bdist.linux-x86_64/egg/keras_segmentation/models/config.py to config.cpython-310.pyc\n",
            "byte-compiling build/bdist.linux-x86_64/egg/keras_segmentation/models/_pspnet_2.py to _pspnet_2.cpython-310.pyc\n",
            "creating build/bdist.linux-x86_64/egg/EGG-INFO\n",
            "copying keras_segmentation.egg-info/PKG-INFO -> build/bdist.linux-x86_64/egg/EGG-INFO\n",
            "copying keras_segmentation.egg-info/SOURCES.txt -> build/bdist.linux-x86_64/egg/EGG-INFO\n",
            "copying keras_segmentation.egg-info/dependency_links.txt -> build/bdist.linux-x86_64/egg/EGG-INFO\n",
            "copying keras_segmentation.egg-info/entry_points.txt -> build/bdist.linux-x86_64/egg/EGG-INFO\n",
            "copying keras_segmentation.egg-info/requires.txt -> build/bdist.linux-x86_64/egg/EGG-INFO\n",
            "copying keras_segmentation.egg-info/top_level.txt -> build/bdist.linux-x86_64/egg/EGG-INFO\n",
            "zip_safe flag not set; analyzing archive contents...\n",
            "creating dist\n",
            "creating 'dist/keras_segmentation-0.3.0-py3.10.egg' and adding 'build/bdist.linux-x86_64/egg' to it\n",
            "removing 'build/bdist.linux-x86_64/egg' (and everything under it)\n",
            "Processing keras_segmentation-0.3.0-py3.10.egg\n",
            "Copying keras_segmentation-0.3.0-py3.10.egg to /usr/local/lib/python3.10/dist-packages\n",
            "Adding keras-segmentation 0.3.0 to easy-install.pth file\n",
            "Installing keras_segmentation script to /usr/local/bin\n",
            "\n",
            "Installed /usr/local/lib/python3.10/dist-packages/keras_segmentation-0.3.0-py3.10.egg\n",
            "Processing dependencies for keras-segmentation==0.3.0\n",
            "Searching for imageio==2.5.0\n",
            "Reading https://pypi.org/simple/imageio/\n",
            "Downloading https://files.pythonhosted.org/packages/af/0a/943c965d372dae0b1f1482677d29030ab834351a61a9a632fd62f27f1523/imageio-2.5.0-py3-none-any.whl#sha256=1a2bbbb7cd38161340fa3b14d806dfbf914abf3ee6fd4592af2afb87d049f209\n",
            "Best match: imageio 2.5.0\n",
            "Processing imageio-2.5.0-py3-none-any.whl\n",
            "Installing imageio-2.5.0-py3-none-any.whl to /usr/local/lib/python3.10/dist-packages\n",
            "Adding imageio 2.5.0 to easy-install.pth file\n",
            "Installing imageio_download_bin script to /usr/local/bin\n",
            "Installing imageio_remove_bin script to /usr/local/bin\n",
            "\n",
            "Installed /usr/local/lib/python3.10/dist-packages/imageio-2.5.0-py3.10.egg\n",
            "Searching for h5py<=2.10.0\n",
            "Reading https://pypi.org/simple/h5py/\n",
            "Downloading https://files.pythonhosted.org/packages/5f/97/a58afbcf40e8abecededd9512978b4e4915374e5b80049af082f49cebe9a/h5py-2.10.0.tar.gz#sha256=84412798925dc870ffd7107f045d7659e60f5d46d1c70c700375248bf6bf512d\n",
            "Best match: h5py 2.10.0\n",
            "Processing h5py-2.10.0.tar.gz\n",
            "Writing /tmp/easy_install-1cdc198s/h5py-2.10.0/setup.cfg\n",
            "Running h5py-2.10.0/setup.py -q bdist_egg --dist-dir /tmp/easy_install-1cdc198s/h5py-2.10.0/egg-dist-tmp-wiqzjzwg\n",
            "no previously-included directories found matching 'docs/_build'\n",
            "no previously-included directories found matching 'docs_api/_build'\n",
            "warning: no previously-included files found matching 'h5py/config.pxi'\n",
            "warning: no previously-included files found matching 'h5py/defs.pxd'\n",
            "warning: no previously-included files found matching 'h5py/defs.pyx'\n",
            "warning: no previously-included files matching '.DS_Store' found under directory '*'\n",
            "warning: no previously-included files found matching 'ci'\n",
            "warning: no previously-included files found matching 'other'\n",
            "warning: no previously-included files found matching '.github'\n",
            "warning: no previously-included files matching '*' found under directory 'ci'\n",
            "warning: no previously-included files matching '*' found under directory 'other'\n",
            "warning: no previously-included files matching '*' found under directory '.github'\n",
            "warning: no previously-included files found matching 'pavement.py'\n",
            "warning: no previously-included files found matching '*.yml'\n",
            "warning: no previously-included files found matching '*.yaml'\n",
            "warning: no previously-included files matching '__pycache__' found under directory '*'\n",
            "warning: no previously-included files matching '*.py[co]' found under directory '*'\n",
            "warning: no previously-included files found matching '.coveragerc'\n",
            "warning: no previously-included files found matching '.mailmap'\n",
            "warning: no previously-included files found matching 'rever.xsh'\n",
            "no previously-included directories found matching 'news'\n",
            "/usr/local/lib/python3.10/dist-packages/setuptools/_distutils/cmd.py:66: SetuptoolsDeprecationWarning: setup.py install is deprecated.\n",
            "!!\n",
            "\n",
            "        ********************************************************************************\n",
            "        Please avoid running ``setup.py`` directly.\n",
            "        Instead, use pypa/build, pypa/installer, pypa/build or\n",
            "        other standards-based tools.\n",
            "\n",
            "        See https://blog.ganssle.io/articles/2021/10/setup-py-deprecated.html for details.\n",
            "        ********************************************************************************\n",
            "\n",
            "!!\n",
            "  self.initialize_options()\n",
            "Traceback (most recent call last):\n",
            "  File \"/usr/local/lib/python3.10/dist-packages/setuptools/sandbox.py\", line 156, in save_modules\n",
            "    yield saved\n",
            "  File \"/usr/local/lib/python3.10/dist-packages/setuptools/sandbox.py\", line 198, in setup_context\n",
            "    yield\n",
            "  File \"/usr/local/lib/python3.10/dist-packages/setuptools/sandbox.py\", line 259, in run_setup\n",
            "    _execfile(setup_script, ns)\n",
            "  File \"/usr/local/lib/python3.10/dist-packages/setuptools/sandbox.py\", line 46, in _execfile\n",
            "    exec(code, globals, locals)\n",
            "  File \"/tmp/easy_install-1cdc198s/h5py-2.10.0/setup.py\", line 140, in <module>\n",
            "  File \"/usr/local/lib/python3.10/dist-packages/setuptools/__init__.py\", line 107, in setup\n",
            "    return distutils.core.setup(**attrs)\n",
            "  File \"/usr/local/lib/python3.10/dist-packages/setuptools/_distutils/core.py\", line 185, in setup\n",
            "    return run_commands(dist)\n",
            "  File \"/usr/local/lib/python3.10/dist-packages/setuptools/_distutils/core.py\", line 201, in run_commands\n",
            "    dist.run_commands()\n",
            "  File \"/usr/local/lib/python3.10/dist-packages/setuptools/_distutils/dist.py\", line 969, in run_commands\n",
            "    self.run_command(cmd)\n",
            "  File \"/usr/local/lib/python3.10/dist-packages/setuptools/dist.py\", line 1244, in run_command\n",
            "    super().run_command(command)\n",
            "  File \"/usr/local/lib/python3.10/dist-packages/setuptools/_distutils/dist.py\", line 988, in run_command\n",
            "    cmd_obj.run()\n",
            "  File \"/usr/local/lib/python3.10/dist-packages/setuptools/command/bdist_egg.py\", line 164, in run\n",
            "    cmd = self.call_command('install_lib', warn_dir=0)\n",
            "  File \"/usr/local/lib/python3.10/dist-packages/setuptools/command/bdist_egg.py\", line 150, in call_command\n",
            "    self.run_command(cmdname)\n",
            "  File \"/usr/local/lib/python3.10/dist-packages/setuptools/_distutils/cmd.py\", line 318, in run_command\n",
            "    self.distribution.run_command(command)\n",
            "  File \"/usr/local/lib/python3.10/dist-packages/setuptools/dist.py\", line 1244, in run_command\n",
            "    super().run_command(command)\n",
            "  File \"/usr/local/lib/python3.10/dist-packages/setuptools/_distutils/dist.py\", line 988, in run_command\n",
            "    cmd_obj.run()\n",
            "  File \"/usr/local/lib/python3.10/dist-packages/setuptools/command/install_lib.py\", line 11, in run\n",
            "    self.build()\n",
            "  File \"/usr/local/lib/python3.10/dist-packages/setuptools/_distutils/command/install_lib.py\", line 111, in build\n",
            "    self.run_command('build_ext')\n",
            "  File \"/usr/local/lib/python3.10/dist-packages/setuptools/_distutils/cmd.py\", line 318, in run_command\n",
            "    self.distribution.run_command(command)\n",
            "  File \"/usr/local/lib/python3.10/dist-packages/setuptools/dist.py\", line 1244, in run_command\n",
            "    super().run_command(command)\n",
            "  File \"/usr/local/lib/python3.10/dist-packages/setuptools/_distutils/dist.py\", line 988, in run_command\n",
            "    cmd_obj.run()\n",
            "  File \"/tmp/easy_install-1cdc198s/h5py-2.10.0/setup_build.py\", line 166, in run\n",
            "  File \"/tmp/easy_install-1cdc198s/h5py-2.10.0/setup_configure.py\", line 160, in run\n",
            "  File \"/tmp/easy_install-1cdc198s/h5py-2.10.0/setup_configure.py\", line 196, in autodetect_version\n",
            "ModuleNotFoundError: No module named 'pkgconfig'\n",
            "\n",
            "During handling of the above exception, another exception occurred:\n",
            "\n",
            "Traceback (most recent call last):\n",
            "  File \"/content/image-segmentation-keras/setup.py\", line 12, in <module>\n",
            "    setup(name=\"keras_segmentation\",\n",
            "  File \"/usr/local/lib/python3.10/dist-packages/setuptools/__init__.py\", line 107, in setup\n",
            "    return distutils.core.setup(**attrs)\n",
            "  File \"/usr/local/lib/python3.10/dist-packages/setuptools/_distutils/core.py\", line 185, in setup\n",
            "    return run_commands(dist)\n",
            "  File \"/usr/local/lib/python3.10/dist-packages/setuptools/_distutils/core.py\", line 201, in run_commands\n",
            "    dist.run_commands()\n",
            "  File \"/usr/local/lib/python3.10/dist-packages/setuptools/_distutils/dist.py\", line 969, in run_commands\n",
            "    self.run_command(cmd)\n",
            "  File \"/usr/local/lib/python3.10/dist-packages/setuptools/dist.py\", line 1244, in run_command\n",
            "    super().run_command(command)\n",
            "  File \"/usr/local/lib/python3.10/dist-packages/setuptools/_distutils/dist.py\", line 988, in run_command\n",
            "    cmd_obj.run()\n",
            "  File \"/usr/local/lib/python3.10/dist-packages/setuptools/command/install.py\", line 80, in run\n",
            "    self.do_egg_install()\n",
            "  File \"/usr/local/lib/python3.10/dist-packages/setuptools/command/install.py\", line 137, in do_egg_install\n",
            "    cmd.run(show_deprecation=False)\n",
            "  File \"/usr/local/lib/python3.10/dist-packages/setuptools/command/easy_install.py\", line 416, in run\n",
            "    self.easy_install(spec, not self.no_deps)\n",
            "  File \"/usr/local/lib/python3.10/dist-packages/setuptools/command/easy_install.py\", line 658, in easy_install\n",
            "    return self.install_item(None, spec, tmpdir, deps, True)\n",
            "  File \"/usr/local/lib/python3.10/dist-packages/setuptools/command/easy_install.py\", line 705, in install_item\n",
            "    self.process_distribution(spec, dist, deps)\n",
            "  File \"/usr/local/lib/python3.10/dist-packages/setuptools/command/easy_install.py\", line 750, in process_distribution\n",
            "    distros = WorkingSet([]).resolve(\n",
            "  File \"/usr/local/lib/python3.10/dist-packages/pkg_resources/__init__.py\", line 827, in resolve\n",
            "    dist = self._resolve_dist(\n",
            "  File \"/usr/local/lib/python3.10/dist-packages/pkg_resources/__init__.py\", line 863, in _resolve_dist\n",
            "    dist = best[req.key] = env.best_match(\n",
            "  File \"/usr/local/lib/python3.10/dist-packages/pkg_resources/__init__.py\", line 1133, in best_match\n",
            "    return self.obtain(req, installer)\n",
            "  File \"/usr/local/lib/python3.10/dist-packages/pkg_resources/__init__.py\", line 1145, in obtain\n",
            "    return installer(requirement)\n",
            "  File \"/usr/local/lib/python3.10/dist-packages/setuptools/command/easy_install.py\", line 677, in easy_install\n",
            "    return self.install_item(spec, dist.location, tmpdir, deps)\n",
            "  File \"/usr/local/lib/python3.10/dist-packages/setuptools/command/easy_install.py\", line 703, in install_item\n",
            "    dists = self.install_eggs(spec, download, tmpdir)\n",
            "  File \"/usr/local/lib/python3.10/dist-packages/setuptools/command/easy_install.py\", line 896, in install_eggs\n",
            "    return self.build_and_install(setup_script, setup_base)\n",
            "  File \"/usr/local/lib/python3.10/dist-packages/setuptools/command/easy_install.py\", line 1170, in build_and_install\n",
            "    self.run_setup(setup_script, setup_base, args)\n",
            "  File \"/usr/local/lib/python3.10/dist-packages/setuptools/command/easy_install.py\", line 1154, in run_setup\n",
            "    run_setup(setup_script, args)\n",
            "  File \"/usr/local/lib/python3.10/dist-packages/setuptools/sandbox.py\", line 249, in run_setup\n",
            "    with setup_context(setup_dir):\n",
            "  File \"/usr/lib/python3.10/contextlib.py\", line 153, in __exit__\n",
            "    self.gen.throw(typ, value, traceback)\n",
            "  File \"/usr/local/lib/python3.10/dist-packages/setuptools/sandbox.py\", line 190, in setup_context\n",
            "    with save_modules():\n",
            "  File \"/usr/lib/python3.10/contextlib.py\", line 153, in __exit__\n",
            "    self.gen.throw(typ, value, traceback)\n",
            "  File \"/usr/local/lib/python3.10/dist-packages/setuptools/sandbox.py\", line 169, in save_modules\n",
            "    saved_exc.resume()\n",
            "  File \"/usr/local/lib/python3.10/dist-packages/setuptools/sandbox.py\", line 143, in resume\n",
            "    raise exc.with_traceback(self._tb)\n",
            "  File \"/usr/local/lib/python3.10/dist-packages/setuptools/sandbox.py\", line 156, in save_modules\n",
            "    yield saved\n",
            "  File \"/usr/local/lib/python3.10/dist-packages/setuptools/sandbox.py\", line 198, in setup_context\n",
            "    yield\n",
            "  File \"/usr/local/lib/python3.10/dist-packages/setuptools/sandbox.py\", line 259, in run_setup\n",
            "    _execfile(setup_script, ns)\n",
            "  File \"/usr/local/lib/python3.10/dist-packages/setuptools/sandbox.py\", line 46, in _execfile\n",
            "    exec(code, globals, locals)\n",
            "  File \"/tmp/easy_install-1cdc198s/h5py-2.10.0/setup.py\", line 140, in <module>\n",
            "  File \"/usr/local/lib/python3.10/dist-packages/setuptools/__init__.py\", line 107, in setup\n",
            "    return distutils.core.setup(**attrs)\n",
            "  File \"/usr/local/lib/python3.10/dist-packages/setuptools/_distutils/core.py\", line 185, in setup\n",
            "    return run_commands(dist)\n",
            "  File \"/usr/local/lib/python3.10/dist-packages/setuptools/_distutils/core.py\", line 201, in run_commands\n",
            "    dist.run_commands()\n",
            "  File \"/usr/local/lib/python3.10/dist-packages/setuptools/_distutils/dist.py\", line 969, in run_commands\n",
            "    self.run_command(cmd)\n",
            "  File \"/usr/local/lib/python3.10/dist-packages/setuptools/dist.py\", line 1244, in run_command\n",
            "    super().run_command(command)\n",
            "  File \"/usr/local/lib/python3.10/dist-packages/setuptools/_distutils/dist.py\", line 988, in run_command\n",
            "    cmd_obj.run()\n",
            "  File \"/usr/local/lib/python3.10/dist-packages/setuptools/command/bdist_egg.py\", line 164, in run\n",
            "    cmd = self.call_command('install_lib', warn_dir=0)\n",
            "  File \"/usr/local/lib/python3.10/dist-packages/setuptools/command/bdist_egg.py\", line 150, in call_command\n",
            "    self.run_command(cmdname)\n",
            "  File \"/usr/local/lib/python3.10/dist-packages/setuptools/_distutils/cmd.py\", line 318, in run_command\n",
            "    self.distribution.run_command(command)\n",
            "  File \"/usr/local/lib/python3.10/dist-packages/setuptools/dist.py\", line 1244, in run_command\n",
            "    super().run_command(command)\n",
            "  File \"/usr/local/lib/python3.10/dist-packages/setuptools/_distutils/dist.py\", line 988, in run_command\n",
            "    cmd_obj.run()\n",
            "  File \"/usr/local/lib/python3.10/dist-packages/setuptools/command/install_lib.py\", line 11, in run\n",
            "    self.build()\n",
            "  File \"/usr/local/lib/python3.10/dist-packages/setuptools/_distutils/command/install_lib.py\", line 111, in build\n",
            "    self.run_command('build_ext')\n",
            "  File \"/usr/local/lib/python3.10/dist-packages/setuptools/_distutils/cmd.py\", line 318, in run_command\n",
            "    self.distribution.run_command(command)\n",
            "  File \"/usr/local/lib/python3.10/dist-packages/setuptools/dist.py\", line 1244, in run_command\n",
            "    super().run_command(command)\n",
            "  File \"/usr/local/lib/python3.10/dist-packages/setuptools/_distutils/dist.py\", line 988, in run_command\n",
            "    cmd_obj.run()\n",
            "  File \"/tmp/easy_install-1cdc198s/h5py-2.10.0/setup_build.py\", line 166, in run\n",
            "  File \"/tmp/easy_install-1cdc198s/h5py-2.10.0/setup_configure.py\", line 160, in run\n",
            "  File \"/tmp/easy_install-1cdc198s/h5py-2.10.0/setup_configure.py\", line 196, in autodetect_version\n",
            "ModuleNotFoundError: No module named 'pkgconfig'\n",
            "Downloading data from https://github.com/fchollet/deep-learning-models/releases/download/v0.1/vgg16_weights_tf_dim_ordering_tf_kernels_notop.h5\n",
            "58889256/58889256 [==============================] - 0s 0us/step\n"
          ]
        }
      ]
    },
    {
      "cell_type": "code",
      "source": [
        "train_images =  str(\"/content/drive/MyDrive/IAI PROJECT/train/input\")\n",
        "train_annotations = str(\"/content/drive/MyDrive/IAI PROJECT/train/labels\")\n",
        "\n",
        "test_images =  str(\"/content/drive/MyDrive/IAI PROJECT/test/input\")\n",
        "test_annotations = str(\"/content/drive/MyDrive/IAI PROJECT/test/labels\")\n"
      ],
      "metadata": {
        "id": "9xGo_thJ5t2r"
      },
      "execution_count": null,
      "outputs": []
    },
    {
      "cell_type": "code",
      "source": [
        "x_train= glob.glob(os.path.join(train_images,\"*.jpg\"))\n",
        "len(x_train)\n",
        "y_train= glob.glob(os.path.join(train_annotations,\"*.png\"))\n",
        "len(y_train)\n",
        "x_test= glob.glob(os.path.join(test_images,\"*.jpg\"))\n",
        "len(x_test)\n",
        "y_test= glob.glob(os.path.join(test_annotations,\"*.png\"))\n",
        "len(y_test)\n"
      ],
      "metadata": {
        "colab": {
          "base_uri": "https://localhost:8080/"
        },
        "id": "Bdznqnrq8xBY",
        "outputId": "757f328c-135f-4826-a1f4-4ce49520954a"
      },
      "execution_count": null,
      "outputs": [
        {
          "output_type": "execute_result",
          "data": {
            "text/plain": [
              "1672"
            ]
          },
          "metadata": {},
          "execution_count": 13
        }
      ]
    },
    {
      "cell_type": "code",
      "source": [
        "from keras.preprocessing.image import ImageDataGenerator"
      ],
      "metadata": {
        "id": "m2CYHbsEooBz"
      },
      "execution_count": null,
      "outputs": []
    },
    {
      "cell_type": "code",
      "source": [
        "image_gen = ImageDataGenerator(rotation_range=30,           #rotate the image 30 degrees\n",
        "                               rescale=1/255,               #Rescale the image by normalizing it\n",
        "                               width_shift_range=0.1,       #shift the pic width by the max of 10%\n",
        "                               height_shift_range=0.1,      #shift the pic height by a max of 10 %\n",
        "                               shear_range=0.2,             #Shear means cutting away part of the image\n",
        "                               zoom_range=0.2,              #ZOom in maby 20%percen max\n",
        "                               horizontal_flip=True,\n",
        "                               fill_mode='nearest')"
      ],
      "metadata": {
        "id": "u-Ra1cLLqySM"
      },
      "execution_count": null,
      "outputs": []
    },
    {
      "cell_type": "code",
      "source": [
        "x=plt.imread('/content/drive/MyDrive/IAI PROJECT/train/labels/frame000000-1581624075_250.png')\n",
        "plt.imshow(x)\n",
        "x.shape"
      ],
      "metadata": {
        "colab": {
          "base_uri": "https://localhost:8080/",
          "height": 393
        },
        "id": "ZdSGkZyx_-ba",
        "outputId": "46a179cc-3785-4531-a446-2c7e2aa28554"
      },
      "execution_count": null,
      "outputs": [
        {
          "output_type": "execute_result",
          "data": {
            "text/plain": [
              "(1200, 1920)"
            ]
          },
          "metadata": {},
          "execution_count": 20
        },
        {
          "output_type": "display_data",
          "data": {
            "text/plain": [
              "<Figure size 640x480 with 1 Axes>"
            ],
            "image/png": "[encoded data removed]"
          },
          "metadata": {}
        }
      ]
    },
    {
      "cell_type": "code",
      "source": [
        "image_shape=(1200, 1920)"
      ],
      "metadata": {
        "id": "ZsuYmrfJ_BAg"
      },
      "execution_count": null,
      "outputs": []
    },
    {
      "cell_type": "code",
      "source": [
        "batch_size=8\n",
        "test_image_gen=image_gen.flow_from_directory(\"/content/drive/MyDrive/IAI PROJECT/test\",\n",
        "                                              target_size=image_shape[:2],\n",
        "                                              batch_size=batch_size)\n",
        "test_labels_gen=image_gen.flow_from_directory(\"/content/drive/MyDrive/IAI PROJECT/train/labels\",\n",
        "                                              target_size=image_shape[:2],\n",
        "                                              batch_size=batch_size)"
      ],
      "metadata": {
        "id": "tEqk_Bhg0D1q",
        "colab": {
          "base_uri": "https://localhost:8080/"
        },
        "outputId": "5b87f010-a07f-448b-d1f3-118678d67dc7"
      },
      "execution_count": null,
      "outputs": [
        {
          "output_type": "stream",
          "name": "stdout",
          "text": [
            "Found 3344 images belonging to 2 classes.\n",
            "Found 0 images belonging to 0 classes.\n"
          ]
        }
      ]
    },
    {
      "cell_type": "code",
      "source": [
        "\n",
        "mc = ModelCheckpoint('best_model.h5', monitor='val_loss', mode='min', save_best_only=True)\n",
        "es = EarlyStopping(monitor='val_loss', mode='min', verbose=1, patience=50)\n"
      ],
      "metadata": {
        "id": "sLE-WsgNENql"
      },
      "execution_count": null,
      "outputs": []
    },
    {
      "cell_type": "code",
      "source": [
        "model.compile(loss='binary_crossentropy', optimizer='adam', metrics=['accuracy'])\n"
      ],
      "metadata": {
        "id": "t1IVwMFaH88L"
      },
      "execution_count": null,
      "outputs": []
    },
    {
      "cell_type": "code",
      "source": [
        "model.fit(train_x, train_annotations,epochs=100,verbose=0,callbacks=[es], validation_data=(test_images, test_annotations))"
      ],
      "metadata": {
        "id": "sBS2TdkLD3kr"
      },
      "execution_count": null,
      "outputs": []
    },
    {
      "cell_type": "code",
      "source": [
        "# model.train(\n",
        "#     train_images =  \"/content/drive/MyDrive/IAI PROJECT/train/input\",\n",
        "#     train_annotations = \"/content/drive/MyDrive/IAI PROJECT/train/labels\",\n",
        "#     checkpoints_path = \"/tmp/vgg_unet_1\" , epochs=50 )\n"
      ],
      "metadata": {
        "id": "CU1nSc2DFIP9"
      },
      "execution_count": null,
      "outputs": []
    },
    {
      "cell_type": "code",
      "source": [
        "filename = 'finalized_model.sav'\n",
        "pickle.dump(model, open(unet_model, 'wb'))\n"
      ],
      "metadata": {
        "id": "s2nmbdQFi-IA"
      },
      "execution_count": null,
      "outputs": []
    },
    {
      "cell_type": "code",
      "source": [],
      "metadata": {
        "id": "1yLzIjWk_jKC"
      },
      "execution_count": null,
      "outputs": []
    },
    {
      "cell_type": "code",
      "source": [
        "\n",
        "# # load the model from disk\n",
        "# loaded_model = pickle.load(open(filename, 'rb'))\n",
        "# result = loaded_model.score(X_test, Y_test)\n",
        "# print(result)"
      ],
      "metadata": {
        "id": "7CsxgPoCCs03"
      },
      "execution_count": null,
      "outputs": []
    }
  ]
}